{
  "nbformat": 4,
  "nbformat_minor": 0,
  "metadata": {
    "colab": {
      "provenance": []
    },
    "kernelspec": {
      "name": "python3",
      "display_name": "Python 3"
    },
    "language_info": {
      "name": "python"
    },
    "accelerator": "GPU",
    "gpuClass": "premium"
  },
  "cells": [
    {
      "cell_type": "markdown",
      "source": [
        "Downloading the data\n"
      ],
      "metadata": {
        "id": "tMZiYLw4_CUv"
      }
    },
    {
      "cell_type": "code",
      "execution_count": 1,
      "metadata": {
        "colab": {
          "base_uri": "https://localhost:8080/"
        },
        "id": "KbwgLuMz5lrv",
        "outputId": "cee51e95-1f64-430d-9939-3e1e560b846a"
      },
      "outputs": [
        {
          "output_type": "stream",
          "name": "stdout",
          "text": [
            "  % Total    % Received % Xferd  Average Speed   Time    Time     Time  Current\n",
            "                                 Dload  Upload   Total   Spent    Left  Speed\n",
            "100 80.2M  100 80.2M    0     0  8622k      0  0:00:09  0:00:09 --:--:-- 16.5M\n"
          ]
        }
      ],
      "source": [
        "!curl -O https://ai.stanford.edu/~amaas/data/sentiment/aclImdb_v1.tar.gz\n",
        "!tar -xf aclImdb_v1.tar.gz\n",
        "!rm -r aclImdb/train/unsup"
      ]
    },
    {
      "cell_type": "code",
      "execution_count": 2,
      "metadata": {
        "id": "ckAIYg8K51oR",
        "outputId": "c18215d8-2239-4939-e1b4-ebefc13fcf0c",
        "colab": {
          "base_uri": "https://localhost:8080/"
        }
      },
      "outputs": [
        {
          "output_type": "stream",
          "name": "stdout",
          "text": [
            "Found 20000 files belonging to 2 classes.\n",
            "Using 4000 files for training.\n",
            "Found 5000 files belonging to 2 classes.\n",
            "Found 25000 files belonging to 2 classes.\n"
          ]
        }
      ],
      "source": [
        "import os, pathlib, shutil, random\n",
        "from tensorflow import keras\n",
        "batch_size = 32\n",
        "base_dir = pathlib.Path(\"aclImdb\")\n",
        "val_dir = base_dir / \"val\"\n",
        "train_dir = base_dir / \"train\"\n",
        "for category in (\"neg\", \"pos\"):\n",
        "    os.makedirs(val_dir / category)\n",
        "    files = os.listdir(train_dir / category)\n",
        "    random.Random(1337).shuffle(files)\n",
        "    num_val_samples = int(0.2 * len(files))\n",
        "    val_files = files[-num_val_samples:]\n",
        "    for fname in val_files:\n",
        "        shutil.move(train_dir / category / fname,\n",
        "                    val_dir / category / fname)\n",
        "\n",
        "train_ds = keras.utils.text_dataset_from_directory(\n",
        "    \"aclImdb/train\", batch_size=batch_size, validation_split=0.8, subset=\"training\", seed=1337, class_names=[\"neg\", \"pos\"], label_mode=\"binary\"\n",
        ").take(100)\n",
        "val_ds = keras.utils.text_dataset_from_directory(\n",
        "    \"aclImdb/val\", batch_size=batch_size\n",
        ")\n",
        "test_ds = keras.utils.text_dataset_from_directory(\n",
        "    \"aclImdb/test\", batch_size=batch_size\n",
        ")\n",
        "text_only_train_ds = train_ds.map(lambda x, y: x)"
      ]
    },
    {
      "cell_type": "code",
      "execution_count": 3,
      "metadata": {
        "id": "2zYdXGLKletO"
      },
      "outputs": [],
      "source": [
        "from tensorflow.keras import layers\n",
        "\n",
        "max_length = 150\n",
        "max_tokens = 20000\n",
        "text_vectorization = layers.TextVectorization(\n",
        "    max_tokens=max_tokens,\n",
        "    output_mode=\"int\",\n",
        "    output_sequence_length=max_length,\n",
        ")\n",
        "text_vectorization.adapt(text_only_train_ds)\n",
        "\n",
        "int_train_ds = train_ds.map(\n",
        "    lambda x, y: (text_vectorization(x), y),\n",
        "    num_parallel_calls=4)\n",
        "int_val_ds = val_ds.map(\n",
        "    lambda x, y: (text_vectorization(x), y),\n",
        "    num_parallel_calls=4)\n",
        "int_test_ds = test_ds.map(\n",
        "    lambda x, y: (text_vectorization(x), y),\n",
        "    num_parallel_calls=4)"
      ]
    },
    {
      "cell_type": "code",
      "source": [
        "import tensorflow as tf\n",
        "inputs = keras.Input(shape=(None,), dtype=\"int64\")\n",
        "embedded = tf.one_hot(inputs, depth=max_tokens)\n",
        "x = layers.Bidirectional(layers.LSTM(32))(embedded)\n",
        "x = layers.Dropout(0.5)(x)\n",
        "outputs = layers.Dense(1, activation=\"sigmoid\")(x)\n",
        "model = keras.Model(inputs, outputs)\n",
        "model.compile(optimizer=\"rmsprop\",\n",
        "              loss=\"binary_crossentropy\",\n",
        "              metrics=[\"accuracy\"])\n",
        "model.summary()"
      ],
      "metadata": {
        "id": "K5Vxlk016TZc",
        "outputId": "506d56f7-dae7-4db7-a82c-c2c7e4b2a4d5",
        "colab": {
          "base_uri": "https://localhost:8080/"
        }
      },
      "execution_count": 4,
      "outputs": [
        {
          "output_type": "stream",
          "name": "stdout",
          "text": [
            "Model: \"model\"\n",
            "_________________________________________________________________\n",
            " Layer (type)                Output Shape              Param #   \n",
            "=================================================================\n",
            " input_1 (InputLayer)        [(None, None)]            0         \n",
            "                                                                 \n",
            " tf.one_hot (TFOpLambda)     (None, None, 20000)       0         \n",
            "                                                                 \n",
            " bidirectional (Bidirectiona  (None, 64)               5128448   \n",
            " l)                                                              \n",
            "                                                                 \n",
            " dropout (Dropout)           (None, 64)                0         \n",
            "                                                                 \n",
            " dense (Dense)               (None, 1)                 65        \n",
            "                                                                 \n",
            "=================================================================\n",
            "Total params: 5,128,513\n",
            "Trainable params: 5,128,513\n",
            "Non-trainable params: 0\n",
            "_________________________________________________________________\n"
          ]
        }
      ]
    },
    {
      "cell_type": "code",
      "source": [
        "callbacks = [\n",
        "    keras.callbacks.ModelCheckpoint(\"one_hot_bidir_lstm.keras\",\n",
        "                                    save_best_only=True)\n",
        "]\n",
        "model.fit(int_train_ds, validation_data=int_val_ds, epochs=10, callbacks=callbacks)\n",
        "model = keras.models.load_model(\"one_hot_bidir_lstm.keras\")\n",
        "print(f\"Test acc: {model.evaluate(int_test_ds)[1]:.3f}\")"
      ],
      "metadata": {
        "id": "glztZNux6Xoh",
        "outputId": "b2ecff2c-cc3a-4493-fc84-40a8c3fe071b",
        "colab": {
          "base_uri": "https://localhost:8080/"
        }
      },
      "execution_count": 5,
      "outputs": [
        {
          "output_type": "stream",
          "name": "stdout",
          "text": [
            "Epoch 1/10\n",
            "100/100 [==============================] - 13s 38ms/step - loss: 0.6922 - accuracy: 0.5159 - val_loss: 0.6897 - val_accuracy: 0.5732\n",
            "Epoch 2/10\n",
            "100/100 [==============================] - 3s 30ms/step - loss: 0.6290 - accuracy: 0.6722 - val_loss: 0.5579 - val_accuracy: 0.7354\n",
            "Epoch 3/10\n",
            "100/100 [==============================] - 3s 29ms/step - loss: 0.4871 - accuracy: 0.7969 - val_loss: 0.5757 - val_accuracy: 0.6980\n",
            "Epoch 4/10\n",
            "100/100 [==============================] - 3s 29ms/step - loss: 0.3617 - accuracy: 0.8672 - val_loss: 0.6091 - val_accuracy: 0.7326\n",
            "Epoch 5/10\n",
            "100/100 [==============================] - 3s 30ms/step - loss: 0.2745 - accuracy: 0.9125 - val_loss: 0.5193 - val_accuracy: 0.7934\n",
            "Epoch 6/10\n",
            "100/100 [==============================] - 3s 31ms/step - loss: 0.2195 - accuracy: 0.9378 - val_loss: 0.4265 - val_accuracy: 0.8198\n",
            "Epoch 7/10\n",
            "100/100 [==============================] - 3s 29ms/step - loss: 0.1859 - accuracy: 0.9463 - val_loss: 0.5153 - val_accuracy: 0.8130\n",
            "Epoch 8/10\n",
            "100/100 [==============================] - 3s 30ms/step - loss: 0.1530 - accuracy: 0.9619 - val_loss: 0.5173 - val_accuracy: 0.7922\n",
            "Epoch 9/10\n",
            "100/100 [==============================] - 3s 30ms/step - loss: 0.1100 - accuracy: 0.9719 - val_loss: 0.4958 - val_accuracy: 0.7996\n",
            "Epoch 10/10\n",
            "100/100 [==============================] - 3s 30ms/step - loss: 0.0974 - accuracy: 0.9719 - val_loss: 0.4887 - val_accuracy: 0.7608\n",
            "782/782 [==============================] - 8s 9ms/step - loss: 0.4488 - accuracy: 0.8120\n",
            "Test acc: 0.812\n"
          ]
        }
      ]
    },
    {
      "cell_type": "code",
      "execution_count": 6,
      "metadata": {
        "id": "j0vkugNZletU"
      },
      "outputs": [],
      "source": [
        "embedding_layer = layers.Embedding(input_dim=max_tokens, output_dim=256)"
      ]
    },
    {
      "cell_type": "code",
      "execution_count": 7,
      "metadata": {
        "id": "FB222ByGletV",
        "outputId": "29d34289-0c1a-47da-ccc0-3eed1d90701c",
        "colab": {
          "base_uri": "https://localhost:8080/"
        }
      },
      "outputs": [
        {
          "output_type": "stream",
          "name": "stdout",
          "text": [
            "Model: \"model_1\"\n",
            "_________________________________________________________________\n",
            " Layer (type)                Output Shape              Param #   \n",
            "=================================================================\n",
            " input_2 (InputLayer)        [(None, None)]            0         \n",
            "                                                                 \n",
            " embedding_1 (Embedding)     (None, None, 256)         5120000   \n",
            "                                                                 \n",
            " bidirectional_1 (Bidirectio  (None, 64)               73984     \n",
            " nal)                                                            \n",
            "                                                                 \n",
            " dropout_1 (Dropout)         (None, 64)                0         \n",
            "                                                                 \n",
            " dense_1 (Dense)             (None, 1)                 65        \n",
            "                                                                 \n",
            "=================================================================\n",
            "Total params: 5,194,049\n",
            "Trainable params: 5,194,049\n",
            "Non-trainable params: 0\n",
            "_________________________________________________________________\n",
            "Epoch 1/10\n",
            "100/100 [==============================] - 18s 144ms/step - loss: 0.6885 - accuracy: 0.5350 - val_loss: 0.6853 - val_accuracy: 0.5830\n",
            "Epoch 2/10\n",
            "100/100 [==============================] - 10s 96ms/step - loss: 0.5826 - accuracy: 0.7175 - val_loss: 0.5764 - val_accuracy: 0.7042\n",
            "Epoch 3/10\n",
            "100/100 [==============================] - 6s 65ms/step - loss: 0.4242 - accuracy: 0.8269 - val_loss: 0.4738 - val_accuracy: 0.7852\n",
            "Epoch 4/10\n",
            "100/100 [==============================] - 5s 51ms/step - loss: 0.2936 - accuracy: 0.8991 - val_loss: 0.4837 - val_accuracy: 0.7958\n",
            "Epoch 5/10\n",
            "100/100 [==============================] - 5s 50ms/step - loss: 0.2214 - accuracy: 0.9316 - val_loss: 0.4858 - val_accuracy: 0.8024\n",
            "Epoch 6/10\n",
            "100/100 [==============================] - 4s 43ms/step - loss: 0.1601 - accuracy: 0.9484 - val_loss: 0.8179 - val_accuracy: 0.6910\n",
            "Epoch 7/10\n",
            "100/100 [==============================] - 4s 40ms/step - loss: 0.1193 - accuracy: 0.9616 - val_loss: 0.5176 - val_accuracy: 0.7760\n",
            "Epoch 8/10\n",
            "100/100 [==============================] - 3s 31ms/step - loss: 0.0753 - accuracy: 0.9825 - val_loss: 0.8488 - val_accuracy: 0.7422\n",
            "Epoch 9/10\n",
            "100/100 [==============================] - 3s 31ms/step - loss: 0.0611 - accuracy: 0.9825 - val_loss: 0.7292 - val_accuracy: 0.7464\n",
            "Epoch 10/10\n",
            "100/100 [==============================] - 3s 34ms/step - loss: 0.0492 - accuracy: 0.9872 - val_loss: 0.7916 - val_accuracy: 0.7718\n",
            "782/782 [==============================] - 5s 6ms/step - loss: 0.4793 - accuracy: 0.7819\n",
            "Test acc: 0.782\n"
          ]
        }
      ],
      "source": [
        "inputs = keras.Input(shape=(None,), dtype=\"int64\")\n",
        "embedded = layers.Embedding(input_dim=max_tokens, output_dim=256)(inputs)\n",
        "x = layers.Bidirectional(layers.LSTM(32))(embedded)\n",
        "x = layers.Dropout(0.5)(x)\n",
        "outputs = layers.Dense(1, activation=\"sigmoid\")(x)\n",
        "model = keras.Model(inputs, outputs)\n",
        "model.compile(optimizer=\"rmsprop\",\n",
        "              loss=\"binary_crossentropy\",\n",
        "              metrics=[\"accuracy\"])\n",
        "model.summary()\n",
        "\n",
        "callbacks = [\n",
        "    keras.callbacks.ModelCheckpoint(\"embeddings_bidir_gru.keras\",\n",
        "                                    save_best_only=True)\n",
        "]\n",
        "model.fit(int_train_ds, validation_data=int_val_ds, epochs=10, callbacks=callbacks)\n",
        "model = keras.models.load_model(\"embeddings_bidir_gru.keras\")\n",
        "print(f\"Test acc: {model.evaluate(int_test_ds)[1]:.3f}\")"
      ]
    },
    {
      "cell_type": "code",
      "source": [
        "inputs = keras.Input(shape=(None,), dtype=\"int64\")\n",
        "embedded = layers.Embedding(\n",
        "    input_dim=max_tokens, output_dim=256, mask_zero=True)(inputs)\n",
        "x = layers.Bidirectional(layers.LSTM(32))(embedded)\n",
        "x = layers.Dropout(0.5)(x)\n",
        "outputs = layers.Dense(1, activation=\"sigmoid\")(x)\n",
        "model = keras.Model(inputs, outputs)\n",
        "model.compile(optimizer=\"rmsprop\",\n",
        "              loss=\"binary_crossentropy\",\n",
        "              metrics=[\"accuracy\"])\n",
        "model.summary()\n",
        "\n",
        "callbacks = [\n",
        "    keras.callbacks.ModelCheckpoint(\"embeddings_bidir_gru_with_masking.keras\",\n",
        "                                    save_best_only=True)\n",
        "]\n",
        "model.fit(int_train_ds, validation_data=int_val_ds, epochs=10, callbacks=callbacks)\n",
        "model = keras.models.load_model(\"embeddings_bidir_gru_with_masking.keras\")\n",
        "print(f\"Test acc: {model.evaluate(int_test_ds)[1]:.3f}\")"
      ],
      "metadata": {
        "id": "oyrcvv8F-Gth",
        "outputId": "f4df5546-bc19-4ff5-886a-9f41d88dd13d",
        "colab": {
          "base_uri": "https://localhost:8080/"
        }
      },
      "execution_count": 8,
      "outputs": [
        {
          "output_type": "stream",
          "name": "stdout",
          "text": [
            "Model: \"model_2\"\n",
            "_________________________________________________________________\n",
            " Layer (type)                Output Shape              Param #   \n",
            "=================================================================\n",
            " input_3 (InputLayer)        [(None, None)]            0         \n",
            "                                                                 \n",
            " embedding_2 (Embedding)     (None, None, 256)         5120000   \n",
            "                                                                 \n",
            " bidirectional_2 (Bidirectio  (None, 64)               73984     \n",
            " nal)                                                            \n",
            "                                                                 \n",
            " dropout_2 (Dropout)         (None, 64)                0         \n",
            "                                                                 \n",
            " dense_2 (Dense)             (None, 1)                 65        \n",
            "                                                                 \n",
            "=================================================================\n",
            "Total params: 5,194,049\n",
            "Trainable params: 5,194,049\n",
            "Non-trainable params: 0\n",
            "_________________________________________________________________\n",
            "Epoch 1/10\n",
            "100/100 [==============================] - 21s 134ms/step - loss: 0.6811 - accuracy: 0.5628 - val_loss: 0.7762 - val_accuracy: 0.5172\n",
            "Epoch 2/10\n",
            "100/100 [==============================] - 8s 81ms/step - loss: 0.5384 - accuracy: 0.7356 - val_loss: 0.4823 - val_accuracy: 0.7786\n",
            "Epoch 3/10\n",
            "100/100 [==============================] - 7s 70ms/step - loss: 0.3730 - accuracy: 0.8453 - val_loss: 0.4317 - val_accuracy: 0.8062\n",
            "Epoch 4/10\n",
            "100/100 [==============================] - 5s 54ms/step - loss: 0.2549 - accuracy: 0.9100 - val_loss: 0.4745 - val_accuracy: 0.8020\n",
            "Epoch 5/10\n",
            "100/100 [==============================] - 5s 50ms/step - loss: 0.1670 - accuracy: 0.9478 - val_loss: 0.4686 - val_accuracy: 0.7884\n",
            "Epoch 6/10\n",
            "100/100 [==============================] - 4s 43ms/step - loss: 0.1100 - accuracy: 0.9678 - val_loss: 0.6199 - val_accuracy: 0.7716\n",
            "Epoch 7/10\n",
            "100/100 [==============================] - 5s 45ms/step - loss: 0.0674 - accuracy: 0.9791 - val_loss: 0.5705 - val_accuracy: 0.8048\n",
            "Epoch 8/10\n",
            "100/100 [==============================] - 3s 34ms/step - loss: 0.0523 - accuracy: 0.9847 - val_loss: 0.5213 - val_accuracy: 0.7788\n",
            "Epoch 9/10\n",
            "100/100 [==============================] - 3s 34ms/step - loss: 0.0380 - accuracy: 0.9887 - val_loss: 0.6501 - val_accuracy: 0.7848\n",
            "Epoch 10/10\n",
            "100/100 [==============================] - 3s 31ms/step - loss: 0.0255 - accuracy: 0.9928 - val_loss: 0.6924 - val_accuracy: 0.7746\n",
            "782/782 [==============================] - 7s 7ms/step - loss: 0.4364 - accuracy: 0.8008\n",
            "Test acc: 0.801\n"
          ]
        }
      ]
    },
    {
      "cell_type": "code",
      "source": [],
      "metadata": {
        "id": "eNgKMMpw-avy"
      },
      "execution_count": null,
      "outputs": []
    }
  ]
}